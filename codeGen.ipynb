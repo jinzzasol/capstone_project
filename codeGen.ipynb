{
 "cells": [
  {
   "cell_type": "code",
   "execution_count": 1,
   "metadata": {},
   "outputs": [
    {
     "data": {
      "text/plain": [
       "True"
      ]
     },
     "execution_count": 1,
     "metadata": {},
     "output_type": "execute_result"
    }
   ],
   "source": [
    "from dotenv import load_dotenv\n",
    "\n",
    "load_dotenv(dotenv_path='.env')"
   ]
  },
  {
   "cell_type": "code",
   "execution_count": 2,
   "metadata": {},
   "outputs": [],
   "source": [
    "# Chat Completions API\n",
    "from openai import OpenAI\n",
    "\n",
    "client = OpenAI()"
   ]
  },
  {
   "cell_type": "markdown",
   "metadata": {},
   "source": [
    "**Chat Completions vs. Completions**\n",
    "\n",
    "The Chat Completions format can be made similar to the completions format by constructing a request using a single user message. For example, one can translate from English to French with the following completions prompt:"
   ]
  },
  {
   "cell_type": "code",
   "execution_count": 3,
   "metadata": {},
   "outputs": [
    {
     "name": "stdout",
     "output_type": "stream",
     "text": [
      "Here's the generated code:\n",
      "\n",
      ", I'm a White woman, living in Huntington Beach, looking for a great guy. I have a Bachelors Degree. I'm 5'5\". I don't have any kids.\n",
      "\n",
      "Meet Singles Like Me\n",
      "\n",
      "More about me\n",
      "\n",
      "I am passionate about life and living it to the fullest. I enjoy spending time with my family and friends. I am passionate about my job and helping others. I am passionate about traveling and experiencing new cultures. I am passionate about music and enjoy going to\n"
     ]
    }
   ],
   "source": [
    "# code geneartion\n",
    "\n",
    "def generate_code(prompt):\n",
    "    response = client.completions.create(\n",
    "        model=\"gpt-3.5-turbo-instruct\",\n",
    "        prompt=prompt,\n",
    "        max_tokens=100,\n",
    "        n=1,\n",
    "        stop=None,\n",
    "        temperature=0.5,\n",
    ")\n",
    "    code = response.choices[0].text.strip()\n",
    "    return code\n",
    "prompt = input(\"Enter some code prompt: \")\n",
    "code = generate_code(prompt)\n",
    "print(\"Here's the generated code:\\n\\n\" + code)"
   ]
  },
  {
   "cell_type": "code",
   "execution_count": null,
   "metadata": {},
   "outputs": [],
   "source": [
    "completion = client.chat.completions.create(\n",
    "  model=\"gpt-3.5-turbo\",\n",
    "  messages=[\n",
    "    {\"role\": \"system\", \"content\": \"You are a code interviewer who gives a feedback on the given codes\"},\n",
    "    {\"role\": \"user\", \"content\": \"\"\"Check this code and return a feedback: \n",
    "      def generate_code(prompt):\n",
    "        response = client.completions.create(\n",
    "            model=\"gpt-3.5-turbo-instruct\",\n",
    "            prompt=prompt,\n",
    "            max_tokens=100,\n",
    "            n=1,\n",
    "            stop=None,\n",
    "            temperature=0.5,\n",
    "          )\n",
    "        code = response.choices[0].text.strip()\n",
    "        return code\n",
    "        prompt = input(\"Enter some code prompt: \")\n",
    "        code = generate_code(prompt)\n",
    "        print(\"Here's the generated code:\\n\\n\" + code)\"\"\"}\n",
    "  ]\n",
    ")\n",
    "\n",
    "print(completion.choices[0].message.content)"
   ]
  }
 ],
 "metadata": {
  "kernelspec": {
   "display_name": "openai",
   "language": "python",
   "name": "python3"
  },
  "language_info": {
   "codemirror_mode": {
    "name": "ipython",
    "version": 3
   },
   "file_extension": ".py",
   "mimetype": "text/x-python",
   "name": "python",
   "nbconvert_exporter": "python",
   "pygments_lexer": "ipython3",
   "version": "3.10.13"
  }
 },
 "nbformat": 4,
 "nbformat_minor": 2
}
